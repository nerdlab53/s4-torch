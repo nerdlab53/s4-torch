{
 "cells": [
  {
   "cell_type": "code",
   "execution_count": 1,
   "metadata": {},
   "outputs": [],
   "source": [
    "from ssm_layer import SSM\n",
    "import torch \n",
    "import numpy as np\n",
    "from torch_scan import torch_scan"
   ]
  },
  {
   "cell_type": "code",
   "execution_count": null,
   "metadata": {},
   "outputs": [],
   "source": [
    "# Example Run\n",
    "from functools import partial\n",
    "def example_mass(k, b, m):\n",
    "    A = torch.tensor([[0, 1], [-k / m, -b / m]], dtype=torch.float32)\n",
    "    B = torch.tensor([[0], [1.0 / m]], dtype=torch.float32)\n",
    "    C = torch.tensor([[1.0, 0]], dtype=torch.float32)\n",
    "    return A, B, C\n",
    "\n",
    "@partial(np.vectorize, signature=\"()->()\")\n",
    "def example_force(t):\n",
    "    x = np.sin(10 * t)\n",
    "    return torch.tensor(x * (x > 0.5), dtype=torch.float32)\n",
    "\n",
    "def example_ssm():\n",
    "    # SSM\n",
    "    # A_n, B_n, C_n = example_mass(k=40, b=5, m=1)\n",
    "    # ssm = SSM(A=A_n, B=B_n, C=C_n)\n",
    "    ssm = example_mass(k=40, b=5, m=1)\n",
    "    for i, val in enumerate(ssm):\n",
    "        print(f\"{i} -> {val}\")\n",
    "    state = SSM(*ssm)\n",
    "    # L samples of u(t).\n",
    "    L = 100\n",
    "    step = 1.0 / L\n",
    "    ks = np.arange(L)\n",
    "    u = example_force(ks * step)\n",
    "\n",
    "    # Approximation of y(t).\n",
    "    y = state.run_SSM(*ssm, u)\n",
    "\n",
    "    # Plotting ---\n",
    "    import matplotlib.pyplot as plt\n",
    "    import seaborn\n",
    "    from celluloid import Camera\n",
    "\n",
    "    seaborn.set_context(\"paper\")\n",
    "    fig, (ax1, ax2, ax3) = plt.subplots(3)\n",
    "    camera = Camera(fig)\n",
    "    ax1.set_title(\"Force $u_k$\")\n",
    "    ax2.set_title(\"Position $y_k$\")\n",
    "    ax3.set_title(\"Object\")\n",
    "    ax1.set_xticks([], [])\n",
    "    ax2.set_xticks([], [])\n",
    "\n",
    "    # Animate plot over time\n",
    "    for k in range(0, L, 2):\n",
    "        ax1.plot(ks[:k], u[:k], color=\"red\")\n",
    "        ax2.plot(ks[:k], y[:k], color=\"blue\")\n",
    "        ax3.boxplot(\n",
    "            [[y[k, 0] - 0.04, y[k, 0], y[k, 0] + 0.04]],\n",
    "            showcaps=False,\n",
    "            whis=False,\n",
    "            vert=False,\n",
    "            widths=10,\n",
    "        )\n",
    "        camera.snap()\n",
    "    anim = camera.animate()\n",
    "    anim.save(\"images/test_ssm.gif\", dpi=150, writer=\"imagemagick\")\n",
    "example_ssm()"
   ]
  },
  {
   "cell_type": "markdown",
   "metadata": {},
   "source": [
    "![gif](images/test_ssm.gif)"
   ]
  }
 ],
 "metadata": {
  "kernelspec": {
   "display_name": "torch2",
   "language": "python",
   "name": "torch2"
  },
  "language_info": {
   "codemirror_mode": {
    "name": "ipython",
    "version": 3
   },
   "file_extension": ".py",
   "mimetype": "text/x-python",
   "name": "python",
   "nbconvert_exporter": "python",
   "pygments_lexer": "ipython3",
   "version": "3.11.4"
  }
 },
 "nbformat": 4,
 "nbformat_minor": 2
}
